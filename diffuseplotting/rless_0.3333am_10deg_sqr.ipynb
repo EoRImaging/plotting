{
 "cells": [
  {
   "cell_type": "code",
   "execution_count": 1,
   "metadata": {
    "collapsed": false
   },
   "outputs": [
    {
     "name": "stdout",
     "output_type": "stream",
     "text": [
      "min 18.3658 -64.5804\n",
      "max 75.5605 -28.2583\n"
     ]
    }
   ],
   "source": [
    "import numpy as np\n",
    "import matplotlib.pyplot as pl\n",
    "import scipy.stats as stats\n",
    "from mpl_toolkits.mplot3d import Axes3D\n",
    "from matplotlib import cm\n",
    "import math\n",
    "import numpy as np\n",
    "tt=[]\n",
    "ttgl=[]\n",
    "with open('1130781304_run2_catalog.txt') as infile:\n",
    "    for line in infile:\n",
    "        tt.append(line.split(','))\n",
    "with open('GLEAM.txt') as infile:\n",
    "    for line in infile:\n",
    "        ttgl.append(line.split(','))\n",
    "del ttgl[0]  #Delete the first element list as it is string (Gleam)\n",
    "ttgl_float=[] \n",
    "for k in ttgl:  #change string to float Gleam\n",
    "    k_float=[float(m) for m in k]\n",
    "    ttgl_float.append(k_float)\n",
    "Flux_T=[]\n",
    "Flux_Tc=[] #Total flux for compact sources\n",
    "Flux_Tex=[] #Total flux for extended sources\n",
    "Flux_Tgl=[] #Total flux for sources in the Gleam catalog\n",
    "Rac=[]  #compact sources\n",
    "Decc=[] #Dec for compact sources\n",
    "Ragl=[] #Ra Gleam\n",
    "Decgl=[]  #Dec Gleam\n",
    "del tt[0] #Delete the fist element list as it is string\n",
    "tt_float=[]\n",
    "for i in tt: #Convert to float\n",
    "    i_float1=[float(z) for z in i]\n",
    "    tt_float.append(i_float1)\n",
    "for j in tt_float:\n",
    "    if j[3]==1:\n",
    "            Flux_T1=j[2]\n",
    "            Flux_T.append(Flux_T1)\n",
    "            Flux_Tex.append(Flux_T1)                     \n",
    "    else: \n",
    "            Flux_T2=j[2]\n",
    "            Flux_T.append(Flux_T2)\n",
    "            Flux_Tc.append(Flux_T2)\n",
    "            Decc1=j[1] \n",
    "            Decc.append(Decc1)\n",
    "            Rac1=j[0]\n",
    "            Rac.append(Rac1) \n",
    "Debm11=[]\n",
    "Rabm11=[]\n",
    "Fluxbm11=[]\n",
    "Rabm=[]\n",
    "Debm=[]\n",
    "Fluxbm=[]\n",
    "count=0\n",
    "while count <len(Decc):\n",
    "    if -56.42<Decc[count]<-36.42:\n",
    "       Debm11.append(Decc[count])\n",
    "       Rabm11.append(Rac[count])\n",
    "       Fluxbm11.append(Flux_Tc[count])\n",
    "       count=count+1\n",
    "    else:\n",
    "        count=count+1\n",
    "count=0\n",
    "while count <len(Rabm11):\n",
    "    if 40<Rabm11[count]<50:\n",
    "       Debm.append(Debm11[count])\n",
    "       Rabm.append(Rabm11[count])\n",
    "       Fluxbm.append(Fluxbm11[count])\n",
    "       count=count+1\n",
    "    else:\n",
    "        count=count+1  \n",
    "for i in ttgl_float:\n",
    "    Flux_Tgl1=i[2]\n",
    "    Flux_Tgl.append(Flux_Tgl1)\n",
    "    Decgl1=i[1]\n",
    "    Decgl.append(Decgl1)\n",
    "    Ragl1=i[0]\n",
    "    Ragl.append(Ragl1)\n",
    "print 'min', min(Rac), min(Decc)\n",
    "print 'max', max(Rac), max(Decc)"
   ]
  },
  {
   "cell_type": "code",
   "execution_count": 14,
   "metadata": {
    "collapsed": false
   },
   "outputs": [
    {
     "name": "stdout",
     "output_type": "stream",
     "text": [
      "[[0], [1], [2], [3], [4], [5], [6], [7], [8], [9], [10], [11, 3], [12], [13], [14], [15, 159], [16], [17], [18], [19], [20], [21], [22], [23], [24], [25], [26], [27], [28], [29], [30], [31], [32], [33], [34], [35], [36], [37], [38, 145], [39], [40], [41], [42], [43], [44], [45], [46], [47], [48, 27], [49], [50], [51], [52], [53], [54], [55], [56], [57, 9], [58], [59, 222], [60], [61], [62], [63], [64], [65], [66], [67], [68], [69, 78], [70], [71], [72], [73], [74], [75], [76], [77], [78], [79], [80], [81], [82], [83], [84], [85, 225], [86, 157], [87], [88], [89], [90], [91], [92, 20], [93], [94], [95], [96], [97], [98], [99], [100], [101], [102], [103], [104], [105], [106], [107], [108], [109], [110], [111], [112], [113], [114], [115], [116, 87], [117], [118], [119], [120], [121], [122, 127], [123], [124], [125], [126], [127], [128], [129], [130], [131], [132, 74], [133], [134], [135], [136], [137], [138], [139], [140], [141], [142], [143], [144], [145], [146], [147], [148], [149], [150], [151], [152], [153], [154], [155], [156], [157], [158], [159], [160], [161], [162], [163], [164], [165], [166], [167], [168], [169], [170], [171], [172], [173], [174], [175], [176], [177], [178], [179], [180], [181], [182], [183], [184], [185], [186], [187], [188], [189], [190], [191], [192, 163], [193], [194], [195], [196], [197], [198], [199, 132], [200], [201, 213], [202], [203], [204], [205], [206], [207], [208], [209], [210], [211], [212], [213], [214], [215], [216], [217], [218], [219], [220], [221], [222], [223], [224], [225], [226], [227], [228], [229], [230], [231], [232], [233], [234], [235], [236], [237], [238], [239], [240], [241, 75], [242], [243, 83], [244], [245], [246], [247], [248], [249], [250], [251, 58], [252], [253], [254], [255], [256], [257, 34], [258], [259], [260], [261], [262], [263], [264], [265], [266, 161], [267, 184], [268, 17], [269], [270], [271], [272, 29]]\n",
      "273 273 273\n"
     ]
    }
   ],
   "source": [
    "De11=[]\n",
    "Ra11=[]\n",
    "Flux11=[]\n",
    "Ra=[]\n",
    "De=[]\n",
    "Flux=[]\n",
    "count=0\n",
    "while count <len(Decgl):\n",
    "    if -47<Decgl[count]<-45:\n",
    "       De11.append(Decgl[count])\n",
    "       Ra11.append(Ragl[count])\n",
    "       Flux11.append(Flux_Tgl[count])\n",
    "       count=count+1\n",
    "    else:\n",
    "        count=count+1\n",
    "count=0\n",
    "while count <len(Ra11):\n",
    "    if 40<Ra11[count]<50:\n",
    "       De.append(De11[count])\n",
    "       Ra.append(Ra11[count])\n",
    "       Flux.append(Flux11[count])\n",
    "       count=count+1\n",
    "    else:\n",
    "        count=count+1    \n",
    "count=0\n",
    "Flux_1jy=[]\n",
    "De_1jy=[]\n",
    "Ra_1jy=[]\n",
    "De_all=[]\n",
    "Ra_all=[]\n",
    "Flux_all=[]\n",
    "while count < len(Fluxbm):\n",
    "    if Fluxbm[count]>=1:\n",
    "       Flux_1jy.append(Fluxbm[count])\n",
    "       De_1jy.append(Debm[count])\n",
    "       Ra_1jy.append(Rabm[count])\n",
    "       Flux_all.append(Fluxbm[count])\n",
    "       De_all.append(Debm[count])\n",
    "       Ra_all.append(Rabm[count])\n",
    "       count=count+1\n",
    "    else:\n",
    "       Flux_all.append(Fluxbm[count])\n",
    "       De_all.append(Debm[count])\n",
    "       Ra_all.append(Rabm[count])\n",
    "       count=count+1\n",
    "Ang_dis=[]\n",
    "ri_list=[]\n",
    "Ang_dis_2am=[]\n",
    "for i in De_1jy:       \n",
    "    ri=[De_1jy.index(i)]\n",
    "    count=0\n",
    "    while count< len(De):\n",
    "        a=(math.sin(np.radians(i)))*(math.sin(np.radians(De[count])))\n",
    "        b=(math.cos(np.radians(i)))*(math.cos(np.radians(De[count])))*(math.cos(np.radians(Ra_1jy[De_1jy.index(i)]-Ra[count])))             \n",
    "        ang_d=np.degrees(math.acos(a+b))\n",
    "        if ang_d < 0.0333333:          \n",
    "            ri.append(count)\n",
    "            Ang_dis_2am.append(ang_d)\n",
    "            count=count+1\n",
    "        else:\n",
    "            count=count+1\n",
    "        Ang_dis.append(ang_d)\n",
    "    ri_list.append(ri)\n",
    "print ri_list\n",
    "print len(Flux_1jy), len(Ra_1jy), len(De_1jy)\n",
    "#print Ang_dis\n",
    "#print len(Flux_Tc), len(Rac), len(Decc)\n",
    "#print len(Decgl)"
   ]
  },
  {
   "cell_type": "code",
   "execution_count": 22,
   "metadata": {
    "collapsed": false,
    "scrolled": true
   },
   "outputs": [
    {
     "data": {
      "image/png": "[encoded data removed]",
      "text/plain": [
       "<matplotlib.figure.Figure at 0x7f8ad808fa50>"
      ]
     },
     "metadata": {},
     "output_type": "display_data"
    }
   ],
   "source": [
    "r_1to1=[]\n",
    "r_no=[]\n",
    "r_many=[]\n",
    "Ra_2amw=[]\n",
    "De_2amw=[]\n",
    "Ra_2amg=[]\n",
    "De_2amg=[]\n",
    "for i in ri_list:\n",
    "      if len(i)==1:\n",
    "            r_no.append(i)\n",
    "      elif len(i)==2:\n",
    "            r_1to1.append(i)\n",
    "            Ra_2amw.append(Ra_1jy[i[0]])\n",
    "            Ra_2amg.append(Ra[i[1]])\n",
    "            De_2amw.append(De_1jy[i[0]])\n",
    "            De_2amg.append(De[i[1]])\n",
    "      else:\n",
    "        r_many.append(i)\n",
    "r_1to1_all=[]\n",
    "r_no_all=[]\n",
    "r_many_all=[]\n",
    "\n",
    "#for i in ri_list_all:\n",
    "#      if len(i)==1:\n",
    "#            r_no_all.append(i)\n",
    "#      elif len(i)==2:\n",
    "#            r_1to1_all.append(i)\n",
    "#      else:\n",
    "#        r_many_all.append(i)        \n",
    "f1=[]\n",
    "f2=[]\n",
    "for i in r_1to1:\n",
    "    f1.append(Flux_1jy[i[0]])\n",
    "    f2.append(Flux[i[1]])\n",
    "pl.figure(figsize=(7,7))\n",
    "fit = np.polyfit(np.log10(f1),np.log10(f2),1)\n",
    "fit_fn = np.poly1d(fit)\n",
    "#pl.plot(f1,f2,'ro')\n",
    "pl.plot(np.log10(f1), np.log10(f2),'o')\n",
    "pl.plot(np.log10(f1),np.polyval(fit,np.log10(f1)),'r-')\n",
    "x=np.arange(0,1.3,0.1)\n",
    "y=x-0.6173747\n",
    "#pl.legend('y=x')\n",
    "pl.plot(x,y,'b-')\n",
    "pl.plot(x,x,'b-')\n",
    "pl.xlabel('logSw')\n",
    "pl.ylabel('logSg')\n",
    "pl.gca().set_aspect('equal',adjustable='box') #Equal x and y scale\n",
    "#pl.plot(np.log10(Flux_G2AM), np.log10(Flux_W2AM),'o')\n",
    "#pl.yscale('log')\n",
    "#pl.xscale('log')\n",
    "#pl.savefig('logs_log_sybxx.png')\n",
    "pl.show()"
   ]
  },
  {
   "cell_type": "code",
   "execution_count": 17,
   "metadata": {
    "collapsed": false
   },
   "outputs": [
    {
     "name": "stdout",
     "output_type": "stream",
     "text": [
      "[ 0.96009067 -0.6173747 ]\n"
     ]
    }
   ],
   "source": [
    "fit = np.polyfit(np.log10(f1),np.log10(f2),1)\n",
    "print fit"
   ]
  },
  {
   "cell_type": "code",
   "execution_count": 16,
   "metadata": {
    "collapsed": false
   },
   "outputs": [
    {
     "data": {
      "image/png": "[encoded data removed]",
      "text/plain": [
       "<matplotlib.figure.Figure at 0x7f8ad89e3990>"
      ]
     },
     "metadata": {},
     "output_type": "display_data"
    }
   ],
   "source": [
    "DRa=[i-j for i,j in zip(Ra_2amw, Ra_2amg)]\n",
    "DDe=[i-j for i,j in zip(De_2amw,De_2amg)]\n",
    "pl.plot(DRa,DDe,'ro')\n",
    "pl.show()"
   ]
  },
  {
   "cell_type": "code",
   "execution_count": 12,
   "metadata": {
    "collapsed": false
   },
   "outputs": [
    {
     "data": {
      "image/png": "[encoded data removed]",
      "text/plain": [
       "<matplotlib.figure.Figure at 0x7f8ad86eaa90>"
      ]
     },
     "metadata": {},
     "output_type": "display_data"
    },
    {
     "data": {
      "image/png": "[encoded data removed]",
      "text/plain": [
       "<matplotlib.figure.Figure at 0x7f8ad89e4950>"
      ]
     },
     "metadata": {},
     "output_type": "display_data"
    },
    {
     "data": {
      "image/png": "[encoded data removed]",
      "text/plain": [
       "<matplotlib.figure.Figure at 0x7f8ad89318d0>"
      ]
     },
     "metadata": {},
     "output_type": "display_data"
    }
   ],
   "source": [
    "pl.hist(DRa, histtype='bar',bins=20)\n",
    "pl.xlim(-0.02,0.02)\n",
    "pl.show()\n",
    "pl.hist(DDe, histtype='bar',bins=20)\n",
    "pl.xlim(-0.02,0.02)\n",
    "pl.xlabel('Del_Ra')\n",
    "pl.show()\n",
    "pl.hist(DRa, histtype='bar',bins=20,label='Ra')\n",
    "pl.hist(DDe, histtype='bar',bins=20,label='Dec')\n",
    "pl.legend()\n",
    "pl.xlim(-0.02,0.02)\n",
    "pl.show()"
   ]
  },
  {
   "cell_type": "code",
   "execution_count": 18,
   "metadata": {
    "collapsed": false
   },
   "outputs": [],
   "source": [
    "#Angular distance in arc second\n",
    "As=[]\n",
    "for i in Ang_dis_2am:\n",
    "    b=i*3600\n",
    "    As.append(b)"
   ]
  },
  {
   "cell_type": "code",
   "execution_count": 19,
   "metadata": {
    "collapsed": false
   },
   "outputs": [
    {
     "data": {
      "image/png": "[encoded data removed]",
      "text/plain": [
       "<matplotlib.figure.Figure at 0x7f8ad8a8ad10>"
      ]
     },
     "metadata": {},
     "output_type": "display_data"
    }
   ],
   "source": [
    "pl.hist(As, histtype='step', bins=20)\n",
    "pl.xlabel('Angular distance in arc second')\n",
    "pl.ylabel('Number of sources')\n",
    "pl.xlim(0,110)\n",
    "pl.show()"
   ]
  },
  {
   "cell_type": "code",
   "execution_count": null,
   "metadata": {
    "collapsed": true
   },
   "outputs": [],
   "source": []
  }
 ],
 "metadata": {
  "kernelspec": {
   "display_name": "Python 2",
   "language": "python",
   "name": "python2"
  },
  "language_info": {
   "codemirror_mode": {
    "name": "ipython",
    "version": 2
   },
   "file_extension": ".py",
   "mimetype": "text/x-python",
   "name": "python",
   "nbconvert_exporter": "python",
   "pygments_lexer": "ipython2",
   "version": "2.7.13"
  }
 },
 "nbformat": 4,
 "nbformat_minor": 2
}
