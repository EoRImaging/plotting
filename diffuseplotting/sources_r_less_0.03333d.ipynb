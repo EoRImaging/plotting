{
 "cells": [
  {
   "cell_type": "code",
   "execution_count": 2,
   "metadata": {
    "collapsed": false
   },
   "outputs": [
    {
     "name": "stdout",
     "output_type": "stream",
     "text": [
      "min Rac 18.3658 Decc -64.5804\n",
      "max Rac 75.5605 Decc -28.2583\n"
     ]
    }
   ],
   "source": [
    "import numpy as np\n",
    "import matplotlib.pyplot as pl\n",
    "import scipy.stats as stats\n",
    "from mpl_toolkits.mplot3d import Axes3D\n",
    "from matplotlib import cm\n",
    "import math\n",
    "import numpy as np\n",
    "tt=[]  #Split the MWA data\n",
    "with open('1130781304_run2_catalog.txt') as infile:\n",
    "    for line in infile:\n",
    "        tt.append(line.split(','))\n",
    "ttgl=[] #Split the Gleam data        \n",
    "with open('GLEAM.txt') as infile:\n",
    "    for line in infile:\n",
    "        ttgl.append(line.split(',')) \n",
    "del tt[0]      #Delete the fist element in the list as it is string (MWA)\n",
    "tt_float=[]    #Convert string to float MWA\n",
    "for i in tt: \n",
    "    i_float1=[float(z) for z in i]\n",
    "    tt_float.append(i_float1)\n",
    "del ttgl[0]  #Delete the first element list as it is string (Gleam)\n",
    "ttgl_float=[] #change string to float Gleam\n",
    "for k in ttgl:  \n",
    "    k_float=[float(m) for m in k]\n",
    "    ttgl_float.append(k_float)\n",
    "Flux_T=[]   # Flux for all the MWA sources\n",
    "Flux_Tc=[]  #Flux for compact MWA sources\n",
    "Flux_Tex=[] #Fluxlux for extended MWA sources\n",
    "Flux_Tgl=[] #Flux for GLEAM sources\n",
    "Rac=[]      #Ra for compact MWA sources\n",
    "Decc=[]     #Dec for compact MWA sources\n",
    "Ragl=[]     #Ra Gleam\n",
    "Decgl=[]    #Dec Gleam\n",
    "for j in tt_float:\n",
    "    if j[3]==1:\n",
    "            Flux_T1=j[2]\n",
    "            Flux_T.append(Flux_T1)\n",
    "            Flux_Tex.append(Flux_T1)                     \n",
    "    else: \n",
    "            Flux_T2=j[2]\n",
    "            Flux_T.append(Flux_T2)\n",
    "            Flux_Tc.append(Flux_T2)\n",
    "            Decc1=j[1] \n",
    "            Decc.append(Decc1)\n",
    "            Rac1=j[0]\n",
    "            Rac.append(Rac1) \n",
    "for i in ttgl_float:\n",
    "    Flux_Tgl1=i[2]\n",
    "    Flux_Tgl.append(Flux_Tgl1)\n",
    "    Decgl1=i[1]\n",
    "    Decgl.append(Decgl1)\n",
    "    Ragl1=i[0]\n",
    "    Ragl.append(Ragl1)\n",
    "print 'min', 'Rac',min(Rac),'Decc', min(Decc)\n",
    "print  'max', 'Rac', max(Rac),'Decc', max(Decc)"
   ]
  },
  {
   "cell_type": "code",
   "execution_count": 3,
   "metadata": {
    "collapsed": false
   },
   "outputs": [
    {
     "name": "stdout",
     "output_type": "stream",
     "text": [
      "127 127 127\n"
     ]
    }
   ],
   "source": [
    "#GLEAM sources with in the max and min RAc and Decc.\n",
    "De11=[]\n",
    "Ra11=[]\n",
    "Flux11=[]\n",
    "Ra=[]\n",
    "De=[]\n",
    "Flux=[]\n",
    "count=0\n",
    "while count <len(Decgl):\n",
    "    if -64<Decgl[count]<-29:\n",
    "       De11.append(Decgl[count])\n",
    "       Ra11.append(Ragl[count])\n",
    "       Flux11.append(Flux_Tgl[count])\n",
    "       count=count+1\n",
    "    else:\n",
    "        count=count+1\n",
    "count=0\n",
    "while count <len(Ra11):\n",
    "    if 17<Ra11[count]<77:\n",
    "       De.append(De11[count])\n",
    "       Ra.append(Ra11[count])\n",
    "       Flux.append(Flux11[count])\n",
    "       count=count+1\n",
    "    else:\n",
    "        count=count+1    \n",
    "#MWA sources with Flux >10jy\n",
    "count=0\n",
    "Flux_1jy=[]\n",
    "De_1jy=[]\n",
    "Ra_1jy=[]\n",
    "De_all=[]\n",
    "while count < len(Flux_Tc):\n",
    "    if Flux_Tc[count]>=10:\n",
    "       Flux_1jy.append(Flux_Tc[count])\n",
    "       De_1jy.append(Decc[count])\n",
    "       Ra_1jy.append(Rac[count])\n",
    "       count=count+1\n",
    "    else:\n",
    "       count=count+1\n",
    "#Matching MWA sources with GLEAM sources.\n",
    "Ang_dis=[]        #Angular distance between MWA sources and Gleam sources\n",
    "Ang_dis_2am=[]    #Angular distance between MWA sources and Gleam sources within 2 arc min radius of the MWA sources.\n",
    "ri_list=[]        #Indices for matching MWA and Gleam sources\n",
    "for i in De_1jy:       \n",
    "    ri=[De_1jy.index(i)]\n",
    "    count=0\n",
    "    while count< len(De):\n",
    "        a=(math.sin(np.radians(i)))*(math.sin(np.radians(De[count])))\n",
    "        b=(math.cos(np.radians(i)))*(math.cos(np.radians(De[count])))*(math.cos(np.radians(Ra_1jy[De_1jy.index(i)]-Ra[count])))             \n",
    "        ang_d=np.degrees(math.acos(a+b))\n",
    "        if ang_d < 0.0333333:          \n",
    "            ri.append(count)\n",
    "            Ang_dis_2am.append(ang_d)\n",
    "            count=count+1\n",
    "            \n",
    "        else:\n",
    "            count=count+1\n",
    "        Ang_dis.append(ang_d)\n",
    "    ri_list.append(ri)\n",
    "print len(Flux_1jy), len(Ra_1jy), len(De_1jy)"
   ]
  },
  {
   "cell_type": "code",
   "execution_count": 5,
   "metadata": {
    "collapsed": false
   },
   "outputs": [],
   "source": [
    "#Ang_dis_all=[]\n",
    "#ri_list_all=[]\n",
    "#for i in De_all:       \n",
    "#    ri_all=[De_all.index(i)]\n",
    "#    count=0\n",
    "#    while count< len(De):\n",
    "#       a=(math.sin(np.radians(i)))*(math.sin(np.radians(De[count])))\n",
    "#       b=(math.cos(np.radians(i)))*(math.cos(np.radians(De[count])))*(math.cos(np.radians(Ra_all[De_all.index(i)]-Ra[count])))             \n",
    "#       ang_d=np.degrees(math.acos(a+b))\n",
    "#       if ang_d < 0.0333333:          \n",
    "#           ri_all.append(count)\n",
    "#           count=count+1\n",
    "#       else:\n",
    "#           count=count+1\n",
    "#       Ang_dis_all.append(ang_d)\n",
    "#   ri_list_all.append(ri)    \n"
   ]
  },
  {
   "cell_type": "code",
   "execution_count": 76,
   "metadata": {
    "collapsed": false
   },
   "outputs": [
    {
     "data": {
      "image/png": "[encoded data removed]",
      "text/plain": [
       "<matplotlib.figure.Figure at 0x7f0c81574f50>"
      ]
     },
     "metadata": {},
     "output_type": "display_data"
    }
   ],
   "source": [
    "r_1to1=[]    #Indices for One to one match\n",
    "r_no=[]      #No match\n",
    "r_many=[]    #One to many match\n",
    "Ra_2amw=[]   #Ra MWA 2arc min rad.\n",
    "De_2amw=[]   #De MWA 2arc min rad.\n",
    "Ra_2amg=[]   #Ra GLEAM 2arc min rad.\n",
    "De_2amg=[]   #De GLEAM 2arc min rad.\n",
    "for i in ri_list:\n",
    "      if len(i)==1:\n",
    "            r_no.append(i)\n",
    "      elif len(i)==2:\n",
    "            r_1to1.append(i)\n",
    "            Ra_2amw.append(Ra_1jy[i[0]])\n",
    "            Ra_2amg.append(Ra[i[1]])\n",
    "            De_2amw.append(De_1jy[i[0]])\n",
    "            De_2amg.append(De[i[1]])\n",
    "      else:\n",
    "            r_many.append(i)      \n",
    "f1=[] #Flux MWA\n",
    "f2=[] #Flux GLEAM\n",
    "for i in r_1to1:\n",
    "    f1.append(Flux_1jy[i[0]])\n",
    "    f2.append(Flux[i[1]])\n",
    "# log_S_GLEAM vs log_S_MWA\n",
    "pl.figure(figsize=(7,7))\n",
    "fit = np.polyfit(np.log10(f1),np.log10(f2),1)\n",
    "fit_fn = np.poly1d(fit) \n",
    "pl.plot(np.log10(f1), np.log10(f2),'o')\n",
    "pl.plot(np.log10(f1),np.polyval(fit,np.log10(f1)),'r-')\n",
    "pl.xlabel('logSw')\n",
    "pl.ylabel('logSg')\n",
    "x=np.arange(1,2,0.1)\n",
    "y=x-0.6173747\n",
    "pl.plot(x,y,'b-',label='y=x-b')\n",
    "pl.plot(x,x,'g-',label='y=x')\n",
    "pl.legend()\n",
    "pl.title('logS-logS plot for flux of GLEAM and MWA sources')\n",
    "pl.gca().set_aspect('equal',adjustable='box')\n",
    "#pl.plot(np.log10(Flux_G2AM), np.log10(Flux_W2AM),'ro')\n",
    "#pl.yscale('log')\n",
    "#pl.xscale('log')\n",
    "pl.show()"
   ]
  },
  {
   "cell_type": "code",
   "execution_count": 5,
   "metadata": {
    "collapsed": false
   },
   "outputs": [
    {
     "name": "stdout",
     "output_type": "stream",
     "text": [
      "[ 0.98372349 -0.62920591]\n"
     ]
    }
   ],
   "source": [
    "#Slope and y intercept of the fit\n",
    "fit = np.polyfit(np.log10(f1),np.log10(f2),1)\n",
    "print fit"
   ]
  },
  {
   "cell_type": "code",
   "execution_count": 6,
   "metadata": {
    "collapsed": false
   },
   "outputs": [
    {
     "data": {
      "image/png": "[encoded data removed]",
      "text/plain": [
       "<matplotlib.figure.Figure at 0x7f0c9461be50>"
      ]
     },
     "metadata": {},
     "output_type": "display_data"
    }
   ],
   "source": [
    "#Ra and Dec differences between the MWA and GLEAM sources\n",
    "DRa=[i-j for i,j in zip(Ra_2amw, Ra_2amg)]\n",
    "DDe=[i-j for i,j in zip(De_2amw,De_2amg)]\n",
    "pl.plot(DRa,DDe,'ro')\n",
    "pl.show()"
   ]
  },
  {
   "cell_type": "code",
   "execution_count": 44,
   "metadata": {
    "collapsed": false
   },
   "outputs": [
    {
     "data": {
      "image/png": "[encoded data removed]",
      "text/plain": [
       "<matplotlib.figure.Figure at 0x7f0c81940610>"
      ]
     },
     "metadata": {},
     "output_type": "display_data"
    },
    {
     "data": {
      "image/png": "[encoded data removed]",
      "text/plain": [
       "<matplotlib.figure.Figure at 0x7f0c816fd110>"
      ]
     },
     "metadata": {},
     "output_type": "display_data"
    },
    {
     "data": {
      "image/png": "[encoded data removed]",
      "text/plain": [
       "<matplotlib.figure.Figure at 0x7f0c8149c510>"
      ]
     },
     "metadata": {},
     "output_type": "display_data"
    }
   ],
   "source": [
    "pl.figure()\n",
    "pl.hist(DRa, histtype='bar',bins=20)\n",
    "pl.xlabel('Del_Ra')\n",
    "pl.ylabel('Number of sources')\n",
    "pl.xlim(-0.05,0.05)\n",
    "pl.show()\n",
    "pl.hist(DDe, histtype='bar',bins=20)\n",
    "pl.xlabel('Del_Dec')\n",
    "pl.ylabel('Number of sources')\n",
    "pl.xlim(-0.05,0.05)\n",
    "pl.show()\n",
    "pl.figure()\n",
    "pl.hist(DRa, histtype='bar',bins=20,label='Ra')\n",
    "pl.hist(DDe, histtype='bar',bins=20,label='Dec')\n",
    "pl.legend()\n",
    "#pl.legend([line_up, line_down])\n",
    "#pl.legend('D')\n",
    "pl.xlabel('Del_Dec and Del_Ra')\n",
    "pl.xlim(-0.05,0.05)\n",
    "pl.ylabel('Number of sources')\n",
    "pl.show()\n"
   ]
  },
  {
   "cell_type": "code",
   "execution_count": 54,
   "metadata": {
    "collapsed": false
   },
   "outputs": [],
   "source": [
    "#Angular distance in arc second\n",
    "As=[]\n",
    "for i in Ang_dis_2am:\n",
    "    b=i*3600\n",
    "    As.append(b)"
   ]
  },
  {
   "cell_type": "code",
   "execution_count": 79,
   "metadata": {
    "collapsed": false
   },
   "outputs": [
    {
     "data": {
      "image/png": "[encoded data removed]",
      "text/plain": [
       "<matplotlib.figure.Figure at 0x7f0c86fb2110>"
      ]
     },
     "metadata": {},
     "output_type": "display_data"
    }
   ],
   "source": [
    "pl.hist(As, histtype='step', bins=20)\n",
    "pl.xlabel('Angular distance in arc second')\n",
    "pl.ylabel('Number of sources')\n",
    "pl.xlim(0,200)\n",
    "pl.show()"
   ]
  },
  {
   "cell_type": "markdown",
   "metadata": {
    "collapsed": true
   },
   "source": []
  }
 ],
 "metadata": {
  "kernelspec": {
   "display_name": "Python 2",
   "language": "python",
   "name": "python2"
  },
  "language_info": {
   "codemirror_mode": {
    "name": "ipython",
    "version": 2
   },
   "file_extension": ".py",
   "mimetype": "text/x-python",
   "name": "python",
   "nbconvert_exporter": "python",
   "pygments_lexer": "ipython2",
   "version": "2.7.13"
  }
 },
 "nbformat": 4,
 "nbformat_minor": 2
}
